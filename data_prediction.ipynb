{
 "cells": [
  {
   "cell_type": "markdown",
   "id": "19f15f71",
   "metadata": {},
   "source": [
    "**1.Data Loading**\n"
   ]
  },
  {
   "cell_type": "code",
   "execution_count": 196,
   "id": "d8c1e0d2",
   "metadata": {},
   "outputs": [],
   "source": [
    "import pandas as pd\n",
    "import numpy as np"
   ]
  },
  {
   "cell_type": "code",
   "execution_count": 197,
   "id": "149167eb",
   "metadata": {},
   "outputs": [],
   "source": [
    "df_Apr = pd.read_csv('CRIME_REVIEW_FOR_THE_MONTH_OF_APRIL_2025.csv')\n",
    "df_Feb = pd.read_csv('CRIME_REVIEW_FOR_THE_MONTH_OF_FEBRUARY_2025_0.csv')\n",
    "df_Mar = pd.read_csv('CRIME_REVIEW_FOR_THE_MONTH_OF_MARCH_2025_0.csv')"
   ]
  },
  {
   "cell_type": "code",
   "execution_count": 198,
   "id": "ca11904c",
   "metadata": {},
   "outputs": [
    {
     "data": {
      "text/html": [
       "<div>\n",
       "<style scoped>\n",
       "    .dataframe tbody tr th:only-of-type {\n",
       "        vertical-align: middle;\n",
       "    }\n",
       "\n",
       "    .dataframe tbody tr th {\n",
       "        vertical-align: top;\n",
       "    }\n",
       "\n",
       "    .dataframe thead th {\n",
       "        text-align: right;\n",
       "    }\n",
       "</style>\n",
       "<table border=\"1\" class=\"dataframe\">\n",
       "  <thead>\n",
       "    <tr style=\"text-align: right;\">\n",
       "      <th></th>\n",
       "      <th>Heads of Crime</th>\n",
       "      <th>Major Heads</th>\n",
       "      <th>Minor Heads</th>\n",
       "      <th>During the current year upto the end of month under review</th>\n",
       "      <th>During the corresponding month of previous year</th>\n",
       "      <th>During the previous month</th>\n",
       "      <th>During the current month</th>\n",
       "      <th>Month</th>\n",
       "    </tr>\n",
       "  </thead>\n",
       "  <tbody>\n",
       "    <tr>\n",
       "      <th>0</th>\n",
       "      <td>A - IPC Crime</td>\n",
       "      <td>Murder (Sec.302/303 IPC/103,104 BNS)</td>\n",
       "      <td>For gain</td>\n",
       "      <td>15</td>\n",
       "      <td>3</td>\n",
       "      <td>4</td>\n",
       "      <td>3</td>\n",
       "      <td>April</td>\n",
       "    </tr>\n",
       "    <tr>\n",
       "      <th>1</th>\n",
       "      <td>A - IPC Crime</td>\n",
       "      <td>Murder (Sec.302/303 IPC/103,104 BNS)</td>\n",
       "      <td>Over Property Dispute</td>\n",
       "      <td>9</td>\n",
       "      <td>5</td>\n",
       "      <td>1</td>\n",
       "      <td>1</td>\n",
       "      <td>April</td>\n",
       "    </tr>\n",
       "    <tr>\n",
       "      <th>2</th>\n",
       "      <td>A - IPC Crime</td>\n",
       "      <td>Murder (Sec.302/303 IPC/103,104 BNS)</td>\n",
       "      <td>Due to Personal Vendetta or enemity</td>\n",
       "      <td>10</td>\n",
       "      <td>3</td>\n",
       "      <td>1</td>\n",
       "      <td>1</td>\n",
       "      <td>April</td>\n",
       "    </tr>\n",
       "    <tr>\n",
       "      <th>3</th>\n",
       "      <td>A - IPC Crime</td>\n",
       "      <td>Murder (Sec.302/303 IPC/103,104 BNS)</td>\n",
       "      <td>Due to Sexual jealousy</td>\n",
       "      <td>12</td>\n",
       "      <td>2</td>\n",
       "      <td>2</td>\n",
       "      <td>4</td>\n",
       "      <td>April</td>\n",
       "    </tr>\n",
       "    <tr>\n",
       "      <th>4</th>\n",
       "      <td>A - IPC Crime</td>\n",
       "      <td>Murder (Sec.302/303 IPC/103,104 BNS)</td>\n",
       "      <td>For dowry by burning</td>\n",
       "      <td>1</td>\n",
       "      <td>0</td>\n",
       "      <td>0</td>\n",
       "      <td>0</td>\n",
       "      <td>April</td>\n",
       "    </tr>\n",
       "  </tbody>\n",
       "</table>\n",
       "</div>"
      ],
      "text/plain": [
       "  Heads of Crime                           Major Heads  \\\n",
       "0  A - IPC Crime  Murder (Sec.302/303 IPC/103,104 BNS)   \n",
       "1  A - IPC Crime  Murder (Sec.302/303 IPC/103,104 BNS)   \n",
       "2  A - IPC Crime  Murder (Sec.302/303 IPC/103,104 BNS)   \n",
       "3  A - IPC Crime  Murder (Sec.302/303 IPC/103,104 BNS)   \n",
       "4  A - IPC Crime  Murder (Sec.302/303 IPC/103,104 BNS)   \n",
       "\n",
       "                           Minor Heads  \\\n",
       "0                             For gain   \n",
       "1                Over Property Dispute   \n",
       "2  Due to Personal Vendetta or enemity   \n",
       "3               Due to Sexual jealousy   \n",
       "4                 For dowry by burning   \n",
       "\n",
       "   During the current year upto the end of month under review  \\\n",
       "0                                                 15            \n",
       "1                                                  9            \n",
       "2                                                 10            \n",
       "3                                                 12            \n",
       "4                                                  1            \n",
       "\n",
       "   During the corresponding month of previous year  During the previous month  \\\n",
       "0                                                3                          4   \n",
       "1                                                5                          1   \n",
       "2                                                3                          1   \n",
       "3                                                2                          2   \n",
       "4                                                0                          0   \n",
       "\n",
       "   During the current month  Month  \n",
       "0                         3  April  \n",
       "1                         1  April  \n",
       "2                         1  April  \n",
       "3                         4  April  \n",
       "4                         0  April  "
      ]
     },
     "execution_count": 198,
     "metadata": {},
     "output_type": "execute_result"
    }
   ],
   "source": [
    "df_Apr.head()"
   ]
  },
  {
   "cell_type": "code",
   "execution_count": 200,
   "id": "a021fe2b",
   "metadata": {},
   "outputs": [
    {
     "data": {
      "text/html": [
       "<div>\n",
       "<style scoped>\n",
       "    .dataframe tbody tr th:only-of-type {\n",
       "        vertical-align: middle;\n",
       "    }\n",
       "\n",
       "    .dataframe tbody tr th {\n",
       "        vertical-align: top;\n",
       "    }\n",
       "\n",
       "    .dataframe thead th {\n",
       "        text-align: right;\n",
       "    }\n",
       "</style>\n",
       "<table border=\"1\" class=\"dataframe\">\n",
       "  <thead>\n",
       "    <tr style=\"text-align: right;\">\n",
       "      <th></th>\n",
       "      <th>SL.NO.</th>\n",
       "      <th>Heads of Crime</th>\n",
       "      <th>Major Heads</th>\n",
       "      <th>Minor Heads</th>\n",
       "      <th>During the current year upto the end of month under review</th>\n",
       "      <th>During the corresponding month of previous year</th>\n",
       "      <th>During the previous month</th>\n",
       "      <th>During the current month</th>\n",
       "      <th>Month</th>\n",
       "    </tr>\n",
       "  </thead>\n",
       "  <tbody>\n",
       "    <tr>\n",
       "      <th>0</th>\n",
       "      <td>1</td>\n",
       "      <td>A - IPC Crime</td>\n",
       "      <td>Murder (Sec.302/303 IPC/103,104 BNS)</td>\n",
       "      <td>For gain</td>\n",
       "      <td>7.0</td>\n",
       "      <td>2.0</td>\n",
       "      <td>4.0</td>\n",
       "      <td>3.0</td>\n",
       "      <td>February</td>\n",
       "    </tr>\n",
       "    <tr>\n",
       "      <th>1</th>\n",
       "      <td>2</td>\n",
       "      <td>A - IPC Crime</td>\n",
       "      <td>Murder (Sec.302/303 IPC/103,104 BNS)</td>\n",
       "      <td>Over Property Dispute</td>\n",
       "      <td>6.0</td>\n",
       "      <td>6.0</td>\n",
       "      <td>2.0</td>\n",
       "      <td>4.0</td>\n",
       "      <td>February</td>\n",
       "    </tr>\n",
       "    <tr>\n",
       "      <th>2</th>\n",
       "      <td>3</td>\n",
       "      <td>A - IPC Crime</td>\n",
       "      <td>Murder (Sec.302/303 IPC/103,104 BNS)</td>\n",
       "      <td>Due to Personal Vendetta or enemity</td>\n",
       "      <td>7.0</td>\n",
       "      <td>1.0</td>\n",
       "      <td>2.0</td>\n",
       "      <td>5.0</td>\n",
       "      <td>February</td>\n",
       "    </tr>\n",
       "    <tr>\n",
       "      <th>3</th>\n",
       "      <td>4</td>\n",
       "      <td>A - IPC Crime</td>\n",
       "      <td>Murder (Sec.302/303 IPC/103,104 BNS)</td>\n",
       "      <td>Due to Sexual jealousy</td>\n",
       "      <td>6.0</td>\n",
       "      <td>1.0</td>\n",
       "      <td>2.0</td>\n",
       "      <td>4.0</td>\n",
       "      <td>February</td>\n",
       "    </tr>\n",
       "    <tr>\n",
       "      <th>4</th>\n",
       "      <td>5</td>\n",
       "      <td>A - IPC Crime</td>\n",
       "      <td>Murder (Sec.302/303 IPC/103,104 BNS)</td>\n",
       "      <td>For dowry by burning</td>\n",
       "      <td>1.0</td>\n",
       "      <td>0.0</td>\n",
       "      <td>1.0</td>\n",
       "      <td>0.0</td>\n",
       "      <td>February</td>\n",
       "    </tr>\n",
       "  </tbody>\n",
       "</table>\n",
       "</div>"
      ],
      "text/plain": [
       "   SL.NO. Heads of Crime                           Major Heads  \\\n",
       "0       1  A - IPC Crime  Murder (Sec.302/303 IPC/103,104 BNS)   \n",
       "1       2  A - IPC Crime  Murder (Sec.302/303 IPC/103,104 BNS)   \n",
       "2       3  A - IPC Crime  Murder (Sec.302/303 IPC/103,104 BNS)   \n",
       "3       4  A - IPC Crime  Murder (Sec.302/303 IPC/103,104 BNS)   \n",
       "4       5  A - IPC Crime  Murder (Sec.302/303 IPC/103,104 BNS)   \n",
       "\n",
       "                           Minor Heads  \\\n",
       "0                             For gain   \n",
       "1                Over Property Dispute   \n",
       "2  Due to Personal Vendetta or enemity   \n",
       "3               Due to Sexual jealousy   \n",
       "4                 For dowry by burning   \n",
       "\n",
       "   During the current year upto the end of month under review  \\\n",
       "0                                                7.0            \n",
       "1                                                6.0            \n",
       "2                                                7.0            \n",
       "3                                                6.0            \n",
       "4                                                1.0            \n",
       "\n",
       "   During the corresponding month of previous year  During the previous month  \\\n",
       "0                                              2.0                        4.0   \n",
       "1                                              6.0                        2.0   \n",
       "2                                              1.0                        2.0   \n",
       "3                                              1.0                        2.0   \n",
       "4                                              0.0                        1.0   \n",
       "\n",
       "   During the current month     Month  \n",
       "0                       3.0  February  \n",
       "1                       4.0  February  \n",
       "2                       5.0  February  \n",
       "3                       4.0  February  \n",
       "4                       0.0  February  "
      ]
     },
     "execution_count": 200,
     "metadata": {},
     "output_type": "execute_result"
    }
   ],
   "source": [
    "df_Feb.head()"
   ]
  },
  {
   "cell_type": "code",
   "execution_count": 199,
   "id": "88c3512c",
   "metadata": {},
   "outputs": [
    {
     "data": {
      "text/html": [
       "<div>\n",
       "<style scoped>\n",
       "    .dataframe tbody tr th:only-of-type {\n",
       "        vertical-align: middle;\n",
       "    }\n",
       "\n",
       "    .dataframe tbody tr th {\n",
       "        vertical-align: top;\n",
       "    }\n",
       "\n",
       "    .dataframe thead th {\n",
       "        text-align: right;\n",
       "    }\n",
       "</style>\n",
       "<table border=\"1\" class=\"dataframe\">\n",
       "  <thead>\n",
       "    <tr style=\"text-align: right;\">\n",
       "      <th></th>\n",
       "      <th>Sl.No.</th>\n",
       "      <th>Heads of Crime</th>\n",
       "      <th>Major Heads</th>\n",
       "      <th>Minor Heads</th>\n",
       "      <th>During the current year upto the end of month under review</th>\n",
       "      <th>During the corresponding month of previous year</th>\n",
       "      <th>During the previous month</th>\n",
       "      <th>During the current month</th>\n",
       "      <th>Month</th>\n",
       "    </tr>\n",
       "  </thead>\n",
       "  <tbody>\n",
       "    <tr>\n",
       "      <th>0</th>\n",
       "      <td>1</td>\n",
       "      <td>A - IPC Crime</td>\n",
       "      <td>Murder (Sec.302/303 IPC/103,104 BNS)</td>\n",
       "      <td>For gain</td>\n",
       "      <td>9</td>\n",
       "      <td>2</td>\n",
       "      <td>3</td>\n",
       "      <td>2</td>\n",
       "      <td>March</td>\n",
       "    </tr>\n",
       "    <tr>\n",
       "      <th>1</th>\n",
       "      <td>2</td>\n",
       "      <td>A - IPC Crime</td>\n",
       "      <td>Murder (Sec.302/303 IPC/103,104 BNS)</td>\n",
       "      <td>Over Property Dispute</td>\n",
       "      <td>8</td>\n",
       "      <td>0</td>\n",
       "      <td>5</td>\n",
       "      <td>1</td>\n",
       "      <td>March</td>\n",
       "    </tr>\n",
       "    <tr>\n",
       "      <th>2</th>\n",
       "      <td>3</td>\n",
       "      <td>A - IPC Crime</td>\n",
       "      <td>Murder (Sec.302/303 IPC/103,104 BNS)</td>\n",
       "      <td>Due to Personal Vendetta or enemity</td>\n",
       "      <td>9</td>\n",
       "      <td>2</td>\n",
       "      <td>6</td>\n",
       "      <td>1</td>\n",
       "      <td>March</td>\n",
       "    </tr>\n",
       "    <tr>\n",
       "      <th>3</th>\n",
       "      <td>4</td>\n",
       "      <td>A - IPC Crime</td>\n",
       "      <td>Murder (Sec.302/303 IPC/103,104 BNS)</td>\n",
       "      <td>Due to Sexual jealousy</td>\n",
       "      <td>7</td>\n",
       "      <td>1</td>\n",
       "      <td>4</td>\n",
       "      <td>1</td>\n",
       "      <td>March</td>\n",
       "    </tr>\n",
       "    <tr>\n",
       "      <th>4</th>\n",
       "      <td>5</td>\n",
       "      <td>A - IPC Crime</td>\n",
       "      <td>Murder (Sec.302/303 IPC/103,104 BNS)</td>\n",
       "      <td>For dowry by burning</td>\n",
       "      <td>1</td>\n",
       "      <td>0</td>\n",
       "      <td>0</td>\n",
       "      <td>0</td>\n",
       "      <td>March</td>\n",
       "    </tr>\n",
       "  </tbody>\n",
       "</table>\n",
       "</div>"
      ],
      "text/plain": [
       "   Sl.No. Heads of Crime                           Major Heads  \\\n",
       "0       1  A - IPC Crime  Murder (Sec.302/303 IPC/103,104 BNS)   \n",
       "1       2  A - IPC Crime  Murder (Sec.302/303 IPC/103,104 BNS)   \n",
       "2       3  A - IPC Crime  Murder (Sec.302/303 IPC/103,104 BNS)   \n",
       "3       4  A - IPC Crime  Murder (Sec.302/303 IPC/103,104 BNS)   \n",
       "4       5  A - IPC Crime  Murder (Sec.302/303 IPC/103,104 BNS)   \n",
       "\n",
       "                           Minor Heads  \\\n",
       "0                             For gain   \n",
       "1                Over Property Dispute   \n",
       "2  Due to Personal Vendetta or enemity   \n",
       "3               Due to Sexual jealousy   \n",
       "4                 For dowry by burning   \n",
       "\n",
       "   During the current year upto the end of month under review  \\\n",
       "0                                                  9            \n",
       "1                                                  8            \n",
       "2                                                  9            \n",
       "3                                                  7            \n",
       "4                                                  1            \n",
       "\n",
       "   During the corresponding month of previous year  During the previous month  \\\n",
       "0                                                2                          3   \n",
       "1                                                0                          5   \n",
       "2                                                2                          6   \n",
       "3                                                1                          4   \n",
       "4                                                0                          0   \n",
       "\n",
       "   During the current month  Month  \n",
       "0                         2  March  \n",
       "1                         1  March  \n",
       "2                         1  March  \n",
       "3                         1  March  \n",
       "4                         0  March  "
      ]
     },
     "execution_count": 199,
     "metadata": {},
     "output_type": "execute_result"
    }
   ],
   "source": [
    "df_Mar.head()"
   ]
  },
  {
   "cell_type": "code",
   "execution_count": 201,
   "id": "124692c8",
   "metadata": {},
   "outputs": [
    {
     "data": {
      "text/plain": [
       "Heads of Crime                                                 0\n",
       "Major Heads                                                    0\n",
       "Minor Heads                                                   70\n",
       "During the current year upto the end of month under review     0\n",
       "During the corresponding month of previous year                0\n",
       "During the previous month                                      0\n",
       "During the current month                                       0\n",
       "Month                                                          0\n",
       "dtype: int64"
      ]
     },
     "execution_count": 201,
     "metadata": {},
     "output_type": "execute_result"
    }
   ],
   "source": [
    "df_Apr.isna().sum()"
   ]
  },
  {
   "cell_type": "code",
   "execution_count": 202,
   "id": "852ad3b2",
   "metadata": {},
   "outputs": [
    {
     "data": {
      "text/plain": [
       "Sl.No.                                                         0\n",
       "Heads of Crime                                                 0\n",
       "Major Heads                                                    0\n",
       "Minor Heads                                                   71\n",
       "During the current year upto the end of month under review     0\n",
       "During the corresponding month of previous year                0\n",
       "During the previous month                                      0\n",
       "During the current month                                       0\n",
       "Month                                                          0\n",
       "dtype: int64"
      ]
     },
     "execution_count": 202,
     "metadata": {},
     "output_type": "execute_result"
    }
   ],
   "source": [
    "df_Mar.isna().sum()"
   ]
  },
  {
   "cell_type": "code",
   "execution_count": 203,
   "id": "ebe64f0a",
   "metadata": {},
   "outputs": [
    {
     "data": {
      "text/plain": [
       "Heads of Crime                                                 0\n",
       "Major Heads                                                    0\n",
       "Minor Heads                                                   70\n",
       "During the current year upto the end of month under review     0\n",
       "During the corresponding month of previous year                0\n",
       "During the previous month                                      0\n",
       "During the current month                                       0\n",
       "Month                                                          0\n",
       "dtype: int64"
      ]
     },
     "execution_count": 203,
     "metadata": {},
     "output_type": "execute_result"
    }
   ],
   "source": [
    "df_Apr.isna().sum()"
   ]
  },
  {
   "cell_type": "code",
   "execution_count": 204,
   "metadata": {},
   "outputs": [
    {
     "name": "stderr",
     "output_type": "stream",
     "text": [
      "C:\\Users\\hp\\AppData\\Local\\Temp\\ipykernel_11152\\4013824296.py:1: FutureWarning: A value is trying to be set on a copy of a DataFrame or Series through chained assignment using an inplace method.\n",
      "The behavior will change in pandas 3.0. This inplace method will never work because the intermediate object on which we are setting values always behaves as a copy.\n",
      "\n",
      "For example, when doing 'df[col].method(value, inplace=True)', try using 'df.method({col: value}, inplace=True)' or df[col] = df[col].method(value) instead, to perform the operation inplace on the original object.\n",
      "\n",
      "\n",
      "  df_Apr['Minor Heads'].fillna('Not Important',inplace =True)\n",
      "C:\\Users\\hp\\AppData\\Local\\Temp\\ipykernel_11152\\4013824296.py:2: FutureWarning: A value is trying to be set on a copy of a DataFrame or Series through chained assignment using an inplace method.\n",
      "The behavior will change in pandas 3.0. This inplace method will never work because the intermediate object on which we are setting values always behaves as a copy.\n",
      "\n",
      "For example, when doing 'df[col].method(value, inplace=True)', try using 'df.method({col: value}, inplace=True)' or df[col] = df[col].method(value) instead, to perform the operation inplace on the original object.\n",
      "\n",
      "\n",
      "  df_Feb['Minor Heads'].fillna('Not Important',inplace =True)\n",
      "C:\\Users\\hp\\AppData\\Local\\Temp\\ipykernel_11152\\4013824296.py:3: FutureWarning: A value is trying to be set on a copy of a DataFrame or Series through chained assignment using an inplace method.\n",
      "The behavior will change in pandas 3.0. This inplace method will never work because the intermediate object on which we are setting values always behaves as a copy.\n",
      "\n",
      "For example, when doing 'df[col].method(value, inplace=True)', try using 'df.method({col: value}, inplace=True)' or df[col] = df[col].method(value) instead, to perform the operation inplace on the original object.\n",
      "\n",
      "\n",
      "  df_Mar['Minor Heads'].fillna('Not Important',inplace =True)\n"
     ]
    }
   ],
   "source": [
    "df_Apr['Minor Heads'].fillna('Not Important',inplace =True)\n",
    "df_Feb['Minor Heads'].fillna('Not Important',inplace =True)\n",
    "df_Mar['Minor Heads'].fillna('Not Important',inplace =True)"
   ]
  },
  {
   "cell_type": "code",
   "execution_count": 205,
   "id": "df3920e1",
   "metadata": {},
   "outputs": [
    {
     "data": {
      "text/plain": [
       "Sl.No.                                                        0\n",
       "Heads of Crime                                                0\n",
       "Major Heads                                                   0\n",
       "Minor Heads                                                   0\n",
       "During the current year upto the end of month under review    0\n",
       "During the corresponding month of previous year               0\n",
       "During the previous month                                     0\n",
       "During the current month                                      0\n",
       "Month                                                         0\n",
       "dtype: int64"
      ]
     },
     "execution_count": 205,
     "metadata": {},
     "output_type": "execute_result"
    }
   ],
   "source": [
    "df_Mar.isna().sum()"
   ]
  },
  {
   "cell_type": "code",
   "execution_count": 206,
   "id": "47687d96",
   "metadata": {},
   "outputs": [
    {
     "data": {
      "text/plain": [
       "Heads of Crime                                                0\n",
       "Major Heads                                                   0\n",
       "Minor Heads                                                   0\n",
       "During the current year upto the end of month under review    0\n",
       "During the corresponding month of previous year               0\n",
       "During the previous month                                     0\n",
       "During the current month                                      0\n",
       "Month                                                         0\n",
       "dtype: int64"
      ]
     },
     "execution_count": 206,
     "metadata": {},
     "output_type": "execute_result"
    }
   ],
   "source": [
    "df_Apr.isna().sum()"
   ]
  },
  {
   "cell_type": "code",
   "execution_count": 207,
   "id": "eeb74c0f",
   "metadata": {},
   "outputs": [
    {
     "name": "stderr",
     "output_type": "stream",
     "text": [
      "C:\\Users\\hp\\AppData\\Local\\Temp\\ipykernel_11152\\46979688.py:1: FutureWarning: A value is trying to be set on a copy of a DataFrame or Series through chained assignment using an inplace method.\n",
      "The behavior will change in pandas 3.0. This inplace method will never work because the intermediate object on which we are setting values always behaves as a copy.\n",
      "\n",
      "For example, when doing 'df[col].method(value, inplace=True)', try using 'df.method({col: value}, inplace=True)' or df[col] = df[col].method(value) instead, to perform the operation inplace on the original object.\n",
      "\n",
      "\n",
      "  df_Feb['During the current year upto the end of month under review'].fillna(0,inplace=True)\n",
      "C:\\Users\\hp\\AppData\\Local\\Temp\\ipykernel_11152\\46979688.py:2: FutureWarning: A value is trying to be set on a copy of a DataFrame or Series through chained assignment using an inplace method.\n",
      "The behavior will change in pandas 3.0. This inplace method will never work because the intermediate object on which we are setting values always behaves as a copy.\n",
      "\n",
      "For example, when doing 'df[col].method(value, inplace=True)', try using 'df.method({col: value}, inplace=True)' or df[col] = df[col].method(value) instead, to perform the operation inplace on the original object.\n",
      "\n",
      "\n",
      "  df_Feb['During the corresponding month of previous year'].fillna(0,inplace=True)\n",
      "C:\\Users\\hp\\AppData\\Local\\Temp\\ipykernel_11152\\46979688.py:3: FutureWarning: A value is trying to be set on a copy of a DataFrame or Series through chained assignment using an inplace method.\n",
      "The behavior will change in pandas 3.0. This inplace method will never work because the intermediate object on which we are setting values always behaves as a copy.\n",
      "\n",
      "For example, when doing 'df[col].method(value, inplace=True)', try using 'df.method({col: value}, inplace=True)' or df[col] = df[col].method(value) instead, to perform the operation inplace on the original object.\n",
      "\n",
      "\n",
      "  df_Feb['During the current month'].fillna(0,inplace=True)\n",
      "C:\\Users\\hp\\AppData\\Local\\Temp\\ipykernel_11152\\46979688.py:4: FutureWarning: A value is trying to be set on a copy of a DataFrame or Series through chained assignment using an inplace method.\n",
      "The behavior will change in pandas 3.0. This inplace method will never work because the intermediate object on which we are setting values always behaves as a copy.\n",
      "\n",
      "For example, when doing 'df[col].method(value, inplace=True)', try using 'df.method({col: value}, inplace=True)' or df[col] = df[col].method(value) instead, to perform the operation inplace on the original object.\n",
      "\n",
      "\n",
      "  df_Feb['During the previous month'].fillna(0,inplace=True)\n"
     ]
    }
   ],
   "source": [
    "df_Feb['During the current year upto the end of month under review'].fillna(0,inplace=True)\n",
    "df_Feb['During the corresponding month of previous year'].fillna(0,inplace=True)\n",
    "df_Feb['During the current month'].fillna(0,inplace=True)\n",
    "df_Feb['During the previous month'].fillna(0,inplace=True)\n",
    "\n"
   ]
  },
  {
   "cell_type": "code",
   "execution_count": 156,
   "id": "a35e2d24",
   "metadata": {},
   "outputs": [
    {
     "data": {
      "text/plain": [
       "SL.NO.                                                        0\n",
       "Heads of Crime                                                0\n",
       "Major Heads                                                   0\n",
       "Minor Heads                                                   0\n",
       "During the current year upto the end of month under review    0\n",
       "During the corresponding month of previous year               0\n",
       "During the previous month                                     0\n",
       "During the current month                                      0\n",
       "Month                                                         0\n",
       "dtype: int64"
      ]
     },
     "execution_count": 156,
     "metadata": {},
     "output_type": "execute_result"
    }
   ],
   "source": [
    "df_Feb.isna().sum()"
   ]
  },
  {
   "cell_type": "code",
   "execution_count": null,
   "id": "b3fb173f",
   "metadata": {},
   "outputs": [],
   "source": []
  },
  {
   "cell_type": "code",
   "execution_count": 157,
   "id": "8e0349fa",
   "metadata": {},
   "outputs": [],
   "source": [
    "df_all = pd.concat([df_Feb, df_Mar, df_Apr], axis=0, ignore_index=True)"
   ]
  },
  {
   "cell_type": "code",
   "execution_count": 158,
   "id": "ebe1006d",
   "metadata": {},
   "outputs": [],
   "source": [
    "df_all.drop(columns=['SL.NO.','Sl.No.'],inplace=True)"
   ]
  },
  {
   "cell_type": "code",
   "execution_count": 159,
   "id": "f5854914",
   "metadata": {},
   "outputs": [
    {
     "name": "stdout",
     "output_type": "stream",
     "text": [
      "<class 'pandas.core.frame.DataFrame'>\n",
      "RangeIndex: 2190 entries, 0 to 2189\n",
      "Data columns (total 8 columns):\n",
      " #   Column                                                      Non-Null Count  Dtype  \n",
      "---  ------                                                      --------------  -----  \n",
      " 0   Heads of Crime                                              2190 non-null   object \n",
      " 1   Major Heads                                                 2190 non-null   object \n",
      " 2   Minor Heads                                                 2190 non-null   object \n",
      " 3   During the current year upto the end of month under review  2190 non-null   float64\n",
      " 4   During the corresponding month of previous year             2190 non-null   float64\n",
      " 5   During the previous month                                   2190 non-null   float64\n",
      " 6   During the current month                                    2190 non-null   float64\n",
      " 7   Month                                                       2190 non-null   object \n",
      "dtypes: float64(4), object(4)\n",
      "memory usage: 137.0+ KB\n"
     ]
    }
   ],
   "source": [
    "df_all.info()"
   ]
  },
  {
   "cell_type": "code",
   "execution_count": 160,
   "id": "402de6b6",
   "metadata": {},
   "outputs": [
    {
     "data": {
      "text/plain": [
       "array(['February', 'March', 'April'], dtype=object)"
      ]
     },
     "execution_count": 160,
     "metadata": {},
     "output_type": "execute_result"
    }
   ],
   "source": [
    "df_all.Month.unique()"
   ]
  },
  {
   "cell_type": "code",
   "execution_count": 181,
   "id": "54c7d9d1",
   "metadata": {},
   "outputs": [],
   "source": [
    "import pandas as pd\n",
    "\n",
    "# Suppose your list is stored in a column 'Major Heads'\n",
    "# Clean by removing anything after first number or keyword like TO / IPC / BNS\n",
    "df_all['Major Heads'] = (\n",
    "    df_all['Major Heads']\n",
    "    .str.extract(r'^([A-Z\\s\\/\\-]+)', expand=False)  # Extract only leading capital words\n",
    "    .str.strip()\n",
    "    .str.title()  # Optional: title-case\n",
    ")\n"
   ]
  },
  {
   "cell_type": "code",
   "execution_count": 182,
   "id": "77b1c0f6",
   "metadata": {},
   "outputs": [
    {
     "data": {
      "text/plain": [
       "array(['M', 'Attempt To Murder',\n",
       "       'Culpable Homicide Not Amounting To Muder',\n",
       "       'Attempt To Culpable Homicide Not Amounting To Murder', 'Rape',\n",
       "       'Kidnapping And Abduction', 'Dacoity', 'R', 'Burglary - Night To',\n",
       "       'Burglary - Day To', 'Theft To', 'Riots To',\n",
       "       'Offences Against State Ipc/', 'Offences Promoting Enemity',\n",
       "       'Criminal Breach Of Trust', 'Cheating', 'Counterfeiting',\n",
       "       'Forgery Ipc/', 'Cases Of Hurt To', 'Adulteration', 'Affray Bns',\n",
       "       'Arson', 'Assault', 'Communal / Religion', 'Criminal Conspiracy',\n",
       "       'Criminal Intimidation', 'Criminal Misappropriation',\n",
       "       'Criminal Trespass To', 'Cruelty By Husband Ipc/',\n",
       "       'Dowry Deaths Ipc/', 'Deaths Due To Rashness/Negligence Ipc/',\n",
       "       'Motor Vehicle Accidents Fatal Ipc/',\n",
       "       'Motor Vehicle Accidents Non-Fatal', 'Deaths-Miscarriage',\n",
       "       'Defence Forces Offences Relating',\n",
       "       'Escape From Lawful Custody And Resistance Ipc/', 'Impersonation',\n",
       "       'Mischief To', 'Molestation', 'Poisoning-Professional',\n",
       "       'Pornography', 'Public Justice', 'Public Nuisance',\n",
       "       'Public Safety', 'Offences Against Public Servants',\n",
       "       'Offences By Public Servants', 'Negligent Act',\n",
       "       'Receiving Of Stolen Property To', 'Sedition',\n",
       "       'Insulting Modesty Of Women', 'Suicide', 'Unnatural Sex',\n",
       "       'Wrongful Restraint/Confinement', 'Infanticide',\n",
       "       'Offences Related To Marriage', 'Buying', 'Documents',\n",
       "       'Defamation-', 'Election', 'Slavery', 'A', 'Illegal Detention Bns',\n",
       "       'False Evidence', 'Exposure And Abandonment Of Child', 'C',\n",
       "       'Assault Or Use Of Criminal Force To Disrobe Women', 'D', 'G',\n",
       "       'Antiques', 'Arms Act', 'Animal', 'Cinematography Act', 'Consumer',\n",
       "       'Copy Right Act', 'Civil Rights',\n",
       "       'Scheduled Caste And The Scheduled Tribes', 'Children Act',\n",
       "       'Prevention Of Corruption Act', 'Customs', 'E', 'Foreign Exchange',\n",
       "       'Foreigner', 'Forest', 'Hijacking', 'Immoral Traffic',\n",
       "       'Bonded Labour System', 'Narcotic Drugs', 'Passport Act',\n",
       "       'Representative Of People Act', 'Karnataka Police Act',\n",
       "       'Prevention Of Damage To Public Property Act', 'Post',\n",
       "       'Official Security Related Acts', 'Prevention Of Terrorism Act',\n",
       "       'Unlawful Activities A', 'Crimes Related To Women',\n",
       "       'Indian Lunacy Act', 'Indian Electricity Act', 'Cotpa',\n",
       "       'Karnataka State Local Acts', 'Cyber Crime',\n",
       "       'National Security Act', 'Pocso', 'O', 'K', 'I', 'P', 'F', nan,\n",
       "       'W', 'L', 'S', 'T', 'Pocso A', 'J', 'Of Abetment',\n",
       "       'Failure To Appear To Court', 'H', 'Indian Motor Vehicle',\n",
       "       'Railways Act'], dtype=object)"
      ]
     },
     "execution_count": 182,
     "metadata": {},
     "output_type": "execute_result"
    }
   ],
   "source": [
    "df_all['Major Heads'].unique()"
   ]
  },
  {
   "cell_type": "code",
   "execution_count": null,
   "id": "15bd1977",
   "metadata": {},
   "outputs": [],
   "source": []
  },
  {
   "cell_type": "code",
   "execution_count": null,
   "metadata": {},
   "outputs": [],
   "source": []
  },
  {
   "cell_type": "code",
   "execution_count": null,
   "id": "b356f29a",
   "metadata": {},
   "outputs": [],
   "source": []
  },
  {
   "cell_type": "code",
   "execution_count": null,
   "id": "9f169196",
   "metadata": {},
   "outputs": [],
   "source": []
  },
  {
   "cell_type": "code",
   "execution_count": null,
   "metadata": {},
   "outputs": [],
   "source": []
  },
  {
   "cell_type": "code",
   "execution_count": null,
   "id": "878de393",
   "metadata": {},
   "outputs": [],
   "source": []
  },
  {
   "cell_type": "code",
   "execution_count": 183,
   "id": "362e7690",
   "metadata": {},
   "outputs": [
    {
     "data": {
      "text/plain": [
       "Index(['Heads of Crime', 'Major Heads', 'Minor Heads',\n",
       "       'During the current year upto the end of month under review',\n",
       "       'During the corresponding month of previous year',\n",
       "       'During the previous month', 'During the current month', 'Month'],\n",
       "      dtype='object')"
      ]
     },
     "execution_count": 183,
     "metadata": {},
     "output_type": "execute_result"
    }
   ],
   "source": [
    "df_all.columns"
   ]
  },
  {
   "cell_type": "code",
   "execution_count": 184,
   "id": "765dd03b",
   "metadata": {},
   "outputs": [],
   "source": [
    "df_heads = df_all.groupby('Heads of Crime')['During the current month'].sum()"
   ]
  },
  {
   "cell_type": "code",
   "execution_count": 185,
   "id": "de5e21fb",
   "metadata": {},
   "outputs": [
    {
     "data": {
      "text/plain": [
       "Heads of Crime\n",
       "    E. CRIME AGAINST SCHEDULED CASTES /TRIBES BY NON SCs/STs \\n      564.0\n",
       "D.CRIME AGAINST CHILDREN                                            2979.0\n",
       "C. CRIMES AGAINST WOMEN                                             4214.0\n",
       "B - SPECIAL & LOCAL LAWS                                           15377.0\n",
       "A - IPC Crime                                                      34428.0\n",
       "Name: During the current month, dtype: float64"
      ]
     },
     "execution_count": 185,
     "metadata": {},
     "output_type": "execute_result"
    }
   ],
   "source": [
    "df_heads.sort_values()"
   ]
  },
  {
   "cell_type": "code",
   "execution_count": 195,
   "id": "2e9d95d1",
   "metadata": {},
   "outputs": [
    {
     "data": {
      "text/plain": [
       "Major Heads\n",
       "Cyber Crime                          3432.0\n",
       "Cases Of Hurt To                     4312.0\n",
       "Karnataka Police Act                 4377.0\n",
       "Theft To                             5244.0\n",
       "Motor Vehicle Accidents Non-Fatal    8054.0\n",
       "Name: During the current month, dtype: float64"
      ]
     },
     "execution_count": 195,
     "metadata": {},
     "output_type": "execute_result"
    }
   ],
   "source": [
    "df_major.sort_values().tail()"
   ]
  },
  {
   "cell_type": "code",
   "execution_count": 188,
   "id": "40dab50e",
   "metadata": {},
   "outputs": [],
   "source": [
    "df_overall = df_all.groupby(['Heads of Crime','Major Heads'])['During the current month'].sum()"
   ]
  },
  {
   "cell_type": "code",
   "execution_count": 189,
   "id": "cde1bd74",
   "metadata": {},
   "outputs": [],
   "source": [
    "df_overall = df_overall.reset_index()\n"
   ]
  },
  {
   "cell_type": "code",
   "execution_count": 193,
   "id": "dcae3581",
   "metadata": {},
   "outputs": [],
   "source": [
    "# Sort by highest crime count\n",
    "df_top = df_overall.sort_values(by='During the current month', ascending=False).head(10)\n"
   ]
  }
 ],
 "metadata": {
  "kernelspec": {
   "display_name": "base",
   "language": "python",
   "name": "python3"
  },
  "language_info": {
   "codemirror_mode": {
    "name": "ipython",
    "version": 3
   },
   "file_extension": ".py",
   "mimetype": "text/x-python",
   "name": "python",
   "nbconvert_exporter": "python",
   "pygments_lexer": "ipython3",
   "version": "3.12.7"
  }
 },
 "nbformat": 4,
 "nbformat_minor": 5
}
